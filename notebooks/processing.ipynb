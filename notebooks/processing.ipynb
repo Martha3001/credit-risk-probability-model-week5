{
 "cells": [
  {
   "cell_type": "markdown",
   "id": "c8db3c82",
   "metadata": {},
   "source": [
    "# Feature Engineering Pipeline"
   ]
  },
  {
   "cell_type": "code",
   "execution_count": 1,
   "id": "6c7630a5",
   "metadata": {},
   "outputs": [],
   "source": [
    "# Import required libraries and feature processing function\n",
    "import pandas as pd\n",
    "import os\n",
    "import sys\n",
    "module_path = os.path.abspath(os.path.join('..'))\n",
    "if module_path not in sys.path:\n",
    "    sys.path.append(module_path)\n",
    "from src.data_processing import process_features\n"
   ]
  },
  {
   "cell_type": "code",
   "execution_count": 2,
   "id": "ea0692a3",
   "metadata": {},
   "outputs": [],
   "source": [
    "# Load raw transaction data\n",
    "df = pd.read_csv('../data/raw/data.csv')"
   ]
  },
  {
   "cell_type": "code",
   "execution_count": 3,
   "id": "78053bd5",
   "metadata": {},
   "outputs": [
    {
     "data": {
      "application/vnd.microsoft.datawrangler.viewer.v0+json": {
       "columns": [
        {
         "name": "index",
         "rawType": "int64",
         "type": "integer"
        },
        {
         "name": "TransactionId",
         "rawType": "object",
         "type": "string"
        },
        {
         "name": "BatchId",
         "rawType": "object",
         "type": "string"
        },
        {
         "name": "AccountId",
         "rawType": "object",
         "type": "string"
        },
        {
         "name": "SubscriptionId",
         "rawType": "object",
         "type": "string"
        },
        {
         "name": "CustomerId",
         "rawType": "object",
         "type": "string"
        },
        {
         "name": "CurrencyCode",
         "rawType": "object",
         "type": "string"
        },
        {
         "name": "CountryCode",
         "rawType": "int64",
         "type": "integer"
        },
        {
         "name": "ProviderId",
         "rawType": "object",
         "type": "string"
        },
        {
         "name": "ProductId",
         "rawType": "object",
         "type": "string"
        },
        {
         "name": "ProductCategory",
         "rawType": "object",
         "type": "string"
        },
        {
         "name": "ChannelId",
         "rawType": "object",
         "type": "string"
        },
        {
         "name": "Amount",
         "rawType": "float64",
         "type": "float"
        },
        {
         "name": "Value",
         "rawType": "int64",
         "type": "integer"
        },
        {
         "name": "TransactionStartTime",
         "rawType": "object",
         "type": "string"
        },
        {
         "name": "PricingStrategy",
         "rawType": "int64",
         "type": "integer"
        },
        {
         "name": "FraudResult",
         "rawType": "int64",
         "type": "integer"
        }
       ],
       "ref": "999525d8-c9c7-4f68-8392-b85cb3e309ca",
       "rows": [
        [
         "0",
         "TransactionId_76871",
         "BatchId_36123",
         "AccountId_3957",
         "SubscriptionId_887",
         "CustomerId_4406",
         "UGX",
         "256",
         "ProviderId_6",
         "ProductId_10",
         "airtime",
         "ChannelId_3",
         "1000.0",
         "1000",
         "2018-11-15T02:18:49Z",
         "2",
         "0"
        ],
        [
         "1",
         "TransactionId_73770",
         "BatchId_15642",
         "AccountId_4841",
         "SubscriptionId_3829",
         "CustomerId_4406",
         "UGX",
         "256",
         "ProviderId_4",
         "ProductId_6",
         "financial_services",
         "ChannelId_2",
         "-20.0",
         "20",
         "2018-11-15T02:19:08Z",
         "2",
         "0"
        ],
        [
         "2",
         "TransactionId_26203",
         "BatchId_53941",
         "AccountId_4229",
         "SubscriptionId_222",
         "CustomerId_4683",
         "UGX",
         "256",
         "ProviderId_6",
         "ProductId_1",
         "airtime",
         "ChannelId_3",
         "500.0",
         "500",
         "2018-11-15T02:44:21Z",
         "2",
         "0"
        ],
        [
         "3",
         "TransactionId_380",
         "BatchId_102363",
         "AccountId_648",
         "SubscriptionId_2185",
         "CustomerId_988",
         "UGX",
         "256",
         "ProviderId_1",
         "ProductId_21",
         "utility_bill",
         "ChannelId_3",
         "20000.0",
         "21800",
         "2018-11-15T03:32:55Z",
         "2",
         "0"
        ],
        [
         "4",
         "TransactionId_28195",
         "BatchId_38780",
         "AccountId_4841",
         "SubscriptionId_3829",
         "CustomerId_988",
         "UGX",
         "256",
         "ProviderId_4",
         "ProductId_6",
         "financial_services",
         "ChannelId_2",
         "-644.0",
         "644",
         "2018-11-15T03:34:21Z",
         "2",
         "0"
        ]
       ],
       "shape": {
        "columns": 16,
        "rows": 5
       }
      },
      "text/html": [
       "<div>\n",
       "<style scoped>\n",
       "    .dataframe tbody tr th:only-of-type {\n",
       "        vertical-align: middle;\n",
       "    }\n",
       "\n",
       "    .dataframe tbody tr th {\n",
       "        vertical-align: top;\n",
       "    }\n",
       "\n",
       "    .dataframe thead th {\n",
       "        text-align: right;\n",
       "    }\n",
       "</style>\n",
       "<table border=\"1\" class=\"dataframe\">\n",
       "  <thead>\n",
       "    <tr style=\"text-align: right;\">\n",
       "      <th></th>\n",
       "      <th>TransactionId</th>\n",
       "      <th>BatchId</th>\n",
       "      <th>AccountId</th>\n",
       "      <th>SubscriptionId</th>\n",
       "      <th>CustomerId</th>\n",
       "      <th>CurrencyCode</th>\n",
       "      <th>CountryCode</th>\n",
       "      <th>ProviderId</th>\n",
       "      <th>ProductId</th>\n",
       "      <th>ProductCategory</th>\n",
       "      <th>ChannelId</th>\n",
       "      <th>Amount</th>\n",
       "      <th>Value</th>\n",
       "      <th>TransactionStartTime</th>\n",
       "      <th>PricingStrategy</th>\n",
       "      <th>FraudResult</th>\n",
       "    </tr>\n",
       "  </thead>\n",
       "  <tbody>\n",
       "    <tr>\n",
       "      <th>0</th>\n",
       "      <td>TransactionId_76871</td>\n",
       "      <td>BatchId_36123</td>\n",
       "      <td>AccountId_3957</td>\n",
       "      <td>SubscriptionId_887</td>\n",
       "      <td>CustomerId_4406</td>\n",
       "      <td>UGX</td>\n",
       "      <td>256</td>\n",
       "      <td>ProviderId_6</td>\n",
       "      <td>ProductId_10</td>\n",
       "      <td>airtime</td>\n",
       "      <td>ChannelId_3</td>\n",
       "      <td>1000.0</td>\n",
       "      <td>1000</td>\n",
       "      <td>2018-11-15T02:18:49Z</td>\n",
       "      <td>2</td>\n",
       "      <td>0</td>\n",
       "    </tr>\n",
       "    <tr>\n",
       "      <th>1</th>\n",
       "      <td>TransactionId_73770</td>\n",
       "      <td>BatchId_15642</td>\n",
       "      <td>AccountId_4841</td>\n",
       "      <td>SubscriptionId_3829</td>\n",
       "      <td>CustomerId_4406</td>\n",
       "      <td>UGX</td>\n",
       "      <td>256</td>\n",
       "      <td>ProviderId_4</td>\n",
       "      <td>ProductId_6</td>\n",
       "      <td>financial_services</td>\n",
       "      <td>ChannelId_2</td>\n",
       "      <td>-20.0</td>\n",
       "      <td>20</td>\n",
       "      <td>2018-11-15T02:19:08Z</td>\n",
       "      <td>2</td>\n",
       "      <td>0</td>\n",
       "    </tr>\n",
       "    <tr>\n",
       "      <th>2</th>\n",
       "      <td>TransactionId_26203</td>\n",
       "      <td>BatchId_53941</td>\n",
       "      <td>AccountId_4229</td>\n",
       "      <td>SubscriptionId_222</td>\n",
       "      <td>CustomerId_4683</td>\n",
       "      <td>UGX</td>\n",
       "      <td>256</td>\n",
       "      <td>ProviderId_6</td>\n",
       "      <td>ProductId_1</td>\n",
       "      <td>airtime</td>\n",
       "      <td>ChannelId_3</td>\n",
       "      <td>500.0</td>\n",
       "      <td>500</td>\n",
       "      <td>2018-11-15T02:44:21Z</td>\n",
       "      <td>2</td>\n",
       "      <td>0</td>\n",
       "    </tr>\n",
       "    <tr>\n",
       "      <th>3</th>\n",
       "      <td>TransactionId_380</td>\n",
       "      <td>BatchId_102363</td>\n",
       "      <td>AccountId_648</td>\n",
       "      <td>SubscriptionId_2185</td>\n",
       "      <td>CustomerId_988</td>\n",
       "      <td>UGX</td>\n",
       "      <td>256</td>\n",
       "      <td>ProviderId_1</td>\n",
       "      <td>ProductId_21</td>\n",
       "      <td>utility_bill</td>\n",
       "      <td>ChannelId_3</td>\n",
       "      <td>20000.0</td>\n",
       "      <td>21800</td>\n",
       "      <td>2018-11-15T03:32:55Z</td>\n",
       "      <td>2</td>\n",
       "      <td>0</td>\n",
       "    </tr>\n",
       "    <tr>\n",
       "      <th>4</th>\n",
       "      <td>TransactionId_28195</td>\n",
       "      <td>BatchId_38780</td>\n",
       "      <td>AccountId_4841</td>\n",
       "      <td>SubscriptionId_3829</td>\n",
       "      <td>CustomerId_988</td>\n",
       "      <td>UGX</td>\n",
       "      <td>256</td>\n",
       "      <td>ProviderId_4</td>\n",
       "      <td>ProductId_6</td>\n",
       "      <td>financial_services</td>\n",
       "      <td>ChannelId_2</td>\n",
       "      <td>-644.0</td>\n",
       "      <td>644</td>\n",
       "      <td>2018-11-15T03:34:21Z</td>\n",
       "      <td>2</td>\n",
       "      <td>0</td>\n",
       "    </tr>\n",
       "  </tbody>\n",
       "</table>\n",
       "</div>"
      ],
      "text/plain": [
       "         TransactionId         BatchId       AccountId       SubscriptionId  \\\n",
       "0  TransactionId_76871   BatchId_36123  AccountId_3957   SubscriptionId_887   \n",
       "1  TransactionId_73770   BatchId_15642  AccountId_4841  SubscriptionId_3829   \n",
       "2  TransactionId_26203   BatchId_53941  AccountId_4229   SubscriptionId_222   \n",
       "3    TransactionId_380  BatchId_102363   AccountId_648  SubscriptionId_2185   \n",
       "4  TransactionId_28195   BatchId_38780  AccountId_4841  SubscriptionId_3829   \n",
       "\n",
       "        CustomerId CurrencyCode  CountryCode    ProviderId     ProductId  \\\n",
       "0  CustomerId_4406          UGX          256  ProviderId_6  ProductId_10   \n",
       "1  CustomerId_4406          UGX          256  ProviderId_4   ProductId_6   \n",
       "2  CustomerId_4683          UGX          256  ProviderId_6   ProductId_1   \n",
       "3   CustomerId_988          UGX          256  ProviderId_1  ProductId_21   \n",
       "4   CustomerId_988          UGX          256  ProviderId_4   ProductId_6   \n",
       "\n",
       "      ProductCategory    ChannelId   Amount  Value  TransactionStartTime  \\\n",
       "0             airtime  ChannelId_3   1000.0   1000  2018-11-15T02:18:49Z   \n",
       "1  financial_services  ChannelId_2    -20.0     20  2018-11-15T02:19:08Z   \n",
       "2             airtime  ChannelId_3    500.0    500  2018-11-15T02:44:21Z   \n",
       "3        utility_bill  ChannelId_3  20000.0  21800  2018-11-15T03:32:55Z   \n",
       "4  financial_services  ChannelId_2   -644.0    644  2018-11-15T03:34:21Z   \n",
       "\n",
       "   PricingStrategy  FraudResult  \n",
       "0                2            0  \n",
       "1                2            0  \n",
       "2                2            0  \n",
       "3                2            0  \n",
       "4                2            0  "
      ]
     },
     "execution_count": 3,
     "metadata": {},
     "output_type": "execute_result"
    }
   ],
   "source": [
    "df.head()"
   ]
  },
  {
   "cell_type": "code",
   "execution_count": 4,
   "id": "0915ed41",
   "metadata": {},
   "outputs": [
    {
     "name": "stdout",
     "output_type": "stream",
     "text": [
      "<class 'pandas.core.frame.DataFrame'>\n",
      "RangeIndex: 95662 entries, 0 to 95661\n",
      "Data columns (total 16 columns):\n",
      " #   Column                Non-Null Count  Dtype  \n",
      "---  ------                --------------  -----  \n",
      " 0   TransactionId         95662 non-null  object \n",
      " 1   BatchId               95662 non-null  object \n",
      " 2   AccountId             95662 non-null  object \n",
      " 3   SubscriptionId        95662 non-null  object \n",
      " 4   CustomerId            95662 non-null  object \n",
      " 5   CurrencyCode          95662 non-null  object \n",
      " 6   CountryCode           95662 non-null  int64  \n",
      " 7   ProviderId            95662 non-null  object \n",
      " 8   ProductId             95662 non-null  object \n",
      " 9   ProductCategory       95662 non-null  object \n",
      " 10  ChannelId             95662 non-null  object \n",
      " 11  Amount                95662 non-null  float64\n",
      " 12  Value                 95662 non-null  int64  \n",
      " 13  TransactionStartTime  95662 non-null  object \n",
      " 14  PricingStrategy       95662 non-null  int64  \n",
      " 15  FraudResult           95662 non-null  int64  \n",
      "dtypes: float64(1), int64(4), object(11)\n",
      "memory usage: 11.7+ MB\n"
     ]
    }
   ],
   "source": [
    "df.info()"
   ]
  },
  {
   "cell_type": "code",
   "execution_count": 5,
   "id": "76a73455",
   "metadata": {},
   "outputs": [],
   "source": [
    "# Remove prefix strings to keep IDs clean for all *_Id columns (only if dtype is object)\n",
    "id_cols = [col for col in df.columns if col.endswith('Id')]\n",
    "for col in id_cols:\n",
    "    if df[col].dtype == 'object':\n",
    "        df[col] = df[col].str.replace(f'{col}_', '').astype(int)\n",
    "del id_cols, col"
   ]
  },
  {
   "cell_type": "code",
   "execution_count": 6,
   "id": "e022d0cb",
   "metadata": {},
   "outputs": [
    {
     "name": "stdout",
     "output_type": "stream",
     "text": [
      "All 'Value' are absolute of 'Amount': False\n",
      "    Value    Amount\n",
      "3   21800  20000.00\n",
      "34     68    -67.25\n",
      "41  11200  10000.00\n",
      "48   5750   5000.00\n",
      "67   5750   5000.00\n"
     ]
    }
   ],
   "source": [
    "# Check if 'Value' is the absolute value of 'Amount'\n",
    "if 'Value' in df.columns and 'Amount' in df.columns:\n",
    "    is_abs = (df['Value'] == df['Amount'].abs()).all()\n",
    "    print(f\"All 'Value' are absolute of 'Amount': {is_abs}\")\n",
    "    # Show mismatches if any\n",
    "    if not is_abs:\n",
    "        print(df.loc[df['Value'] != df['Amount'].abs(), ['Value', 'Amount']].head())\n",
    "else:\n",
    "    print(\"'Value' or 'Amount' column not found in DataFrame.\")"
   ]
  },
  {
   "cell_type": "code",
   "execution_count": 7,
   "id": "a37b330a",
   "metadata": {},
   "outputs": [
    {
     "name": "stdout",
     "output_type": "stream",
     "text": [
      "'Value' column replaced with abs('Amount').\n"
     ]
    }
   ],
   "source": [
    "# Replace 'Value' with the absolute value of 'Amount'\n",
    "if 'Value' in df.columns and 'Amount' in df.columns:\n",
    "    df['Value'] = df['Amount'].abs().astype(int)\n",
    "    print(\"'Value' column replaced with abs('Amount').\")\n",
    "else:\n",
    "    print(\"'Value' or 'Amount' column not found in DataFrame.\")"
   ]
  },
  {
   "cell_type": "code",
   "execution_count": 8,
   "id": "27a35434",
   "metadata": {},
   "outputs": [
    {
     "name": "stdout",
     "output_type": "stream",
     "text": [
      "The count of unique values in the columns:\n",
      "(95662, 16)\n",
      "TransactionId    95662\n",
      "CurrencyCode         1\n",
      "CountryCode          1\n",
      "dtype: int64\n"
     ]
    }
   ],
   "source": [
    "print(\"The count of unique values in the columns:\")\n",
    "drop_columns = ['TransactionId', 'CurrencyCode', 'CountryCode']\n",
    "print(df.shape)\n",
    "print(df[drop_columns].nunique())\n",
    "\n",
    "# Drop columns that are not needed for modeling cause transaction IDs is unique for every row, \n",
    "# currency code, and country code have only one value.\n",
    "df.drop(columns=drop_columns, inplace=True, errors='ignore')"
   ]
  },
  {
   "cell_type": "code",
   "execution_count": 9,
   "id": "1aeaa9e4",
   "metadata": {},
   "outputs": [
    {
     "data": {
      "application/vnd.microsoft.datawrangler.viewer.v0+json": {
       "columns": [
        {
         "name": "index",
         "rawType": "int64",
         "type": "integer"
        },
        {
         "name": "BatchId",
         "rawType": "int64",
         "type": "integer"
        },
        {
         "name": "AccountId",
         "rawType": "int64",
         "type": "integer"
        },
        {
         "name": "SubscriptionId",
         "rawType": "int64",
         "type": "integer"
        },
        {
         "name": "CustomerId",
         "rawType": "int64",
         "type": "integer"
        },
        {
         "name": "Amount",
         "rawType": "float64",
         "type": "float"
        },
        {
         "name": "Value",
         "rawType": "float64",
         "type": "float"
        },
        {
         "name": "PricingStrategy",
         "rawType": "int64",
         "type": "integer"
        },
        {
         "name": "FraudResult",
         "rawType": "int64",
         "type": "integer"
        },
        {
         "name": "transaction_hour",
         "rawType": "int32",
         "type": "integer"
        },
        {
         "name": "transaction_day",
         "rawType": "int32",
         "type": "integer"
        },
        {
         "name": "transaction_month",
         "rawType": "int32",
         "type": "integer"
        },
        {
         "name": "transaction_year",
         "rawType": "int32",
         "type": "integer"
        },
        {
         "name": "total_transaction_amount",
         "rawType": "float64",
         "type": "float"
        },
        {
         "name": "average_transaction_amount",
         "rawType": "float64",
         "type": "float"
        },
        {
         "name": "transaction_count",
         "rawType": "float64",
         "type": "float"
        },
        {
         "name": "std_transaction_amount",
         "rawType": "float64",
         "type": "float"
        },
        {
         "name": "ProviderId_1",
         "rawType": "float64",
         "type": "float"
        },
        {
         "name": "ProviderId_2",
         "rawType": "float64",
         "type": "float"
        },
        {
         "name": "ProviderId_3",
         "rawType": "float64",
         "type": "float"
        },
        {
         "name": "ProviderId_4",
         "rawType": "float64",
         "type": "float"
        },
        {
         "name": "ProviderId_5",
         "rawType": "float64",
         "type": "float"
        },
        {
         "name": "ProviderId_6",
         "rawType": "float64",
         "type": "float"
        },
        {
         "name": "ChannelId_1",
         "rawType": "float64",
         "type": "float"
        },
        {
         "name": "ChannelId_2",
         "rawType": "float64",
         "type": "float"
        },
        {
         "name": "ChannelId_3",
         "rawType": "float64",
         "type": "float"
        },
        {
         "name": "ChannelId_5",
         "rawType": "float64",
         "type": "float"
        },
        {
         "name": "ProductCategory_airtime",
         "rawType": "float64",
         "type": "float"
        },
        {
         "name": "ProductCategory_data_bundles",
         "rawType": "float64",
         "type": "float"
        },
        {
         "name": "ProductCategory_financial_services",
         "rawType": "float64",
         "type": "float"
        },
        {
         "name": "ProductCategory_movies",
         "rawType": "float64",
         "type": "float"
        },
        {
         "name": "ProductCategory_other",
         "rawType": "float64",
         "type": "float"
        },
        {
         "name": "ProductCategory_ticket",
         "rawType": "float64",
         "type": "float"
        },
        {
         "name": "ProductCategory_transport",
         "rawType": "float64",
         "type": "float"
        },
        {
         "name": "ProductCategory_tv",
         "rawType": "float64",
         "type": "float"
        },
        {
         "name": "ProductCategory_utility_bill",
         "rawType": "float64",
         "type": "float"
        },
        {
         "name": "ProductId_label",
         "rawType": "int64",
         "type": "integer"
        }
       ],
       "ref": "92de3e6c-ad9e-4b2d-a3b5-9d1067e64db3",
       "rows": [
        [
         "0",
         "36123",
         "3957",
         "887",
         "4406",
         "-0.04637113647159194",
         "-0.07195344762114471",
         "2",
         "0",
         "2",
         "15",
         "11",
         "2018",
         "0.170117935910918",
         "-0.0676228544612966",
         "-0.3118310092154473",
         "-0.16701636671772688",
         "0.0",
         "0.0",
         "0.0",
         "0.0",
         "0.0",
         "1.0",
         "0.0",
         "0.0",
         "1.0",
         "0.0",
         "1.0",
         "0.0",
         "0.0",
         "0.0",
         "0.0",
         "0.0",
         "0.0",
         "0.0",
         "0.0",
         "1"
        ],
        [
         "1",
         "15642",
         "4841",
         "3829",
         "4406",
         "-0.0546432297768206",
         "-0.0799147795776147",
         "2",
         "0",
         "2",
         "15",
         "11",
         "2018",
         "0.170117935910918",
         "-0.0676228544612966",
         "-0.3118310092154473",
         "-0.16701636671772688",
         "0.0",
         "0.0",
         "0.0",
         "1.0",
         "0.0",
         "0.0",
         "0.0",
         "1.0",
         "0.0",
         "0.0",
         "0.0",
         "0.0",
         "1.0",
         "0.0",
         "0.0",
         "0.0",
         "0.0",
         "0.0",
         "0.0",
         "19"
        ],
        [
         "2",
         "53941",
         "4229",
         "222",
         "4683",
         "-0.05042608417023344",
         "-0.07601535168056818",
         "2",
         "0",
         "2",
         "15",
         "11",
         "2018",
         "0.1651221194335038",
         "-0.07256796380513232",
         "-0.4449933970594211",
         "-0.20120873993361918",
         "0.0",
         "0.0",
         "0.0",
         "0.0",
         "0.0",
         "1.0",
         "0.0",
         "0.0",
         "1.0",
         "0.0",
         "1.0",
         "0.0",
         "0.0",
         "0.0",
         "0.0",
         "0.0",
         "0.0",
         "0.0",
         "0.0",
         "0"
        ],
        [
         "3",
         "102363",
         "648",
         "2185",
         "988",
         "0.10771687607678511",
         "0.08239890663694693",
         "2",
         "0",
         "3",
         "15",
         "11",
         "2018",
         "0.17556707921532333",
         "-0.008154580989808974",
         "-0.4040203546458907",
         "-0.00824347474900285",
         "1.0",
         "0.0",
         "0.0",
         "0.0",
         "0.0",
         "0.0",
         "0.0",
         "0.0",
         "1.0",
         "0.0",
         "0.0",
         "0.0",
         "0.0",
         "0.0",
         "0.0",
         "0.0",
         "0.0",
         "0.0",
         "1.0",
         "11"
        ],
        [
         "4",
         "38780",
         "4841",
         "3829",
         "988",
         "-0.05970380450472519",
         "-0.07484552331145422",
         "2",
         "0",
         "3",
         "15",
         "11",
         "2018",
         "0.17556707921532333",
         "-0.008154580989808974",
         "-0.4040203546458907",
         "-0.00824347474900285",
         "0.0",
         "0.0",
         "0.0",
         "1.0",
         "0.0",
         "0.0",
         "0.0",
         "1.0",
         "0.0",
         "0.0",
         "0.0",
         "0.0",
         "1.0",
         "0.0",
         "0.0",
         "0.0",
         "0.0",
         "0.0",
         "0.0",
         "19"
        ]
       ],
       "shape": {
        "columns": 36,
        "rows": 5
       }
      },
      "text/html": [
       "<div>\n",
       "<style scoped>\n",
       "    .dataframe tbody tr th:only-of-type {\n",
       "        vertical-align: middle;\n",
       "    }\n",
       "\n",
       "    .dataframe tbody tr th {\n",
       "        vertical-align: top;\n",
       "    }\n",
       "\n",
       "    .dataframe thead th {\n",
       "        text-align: right;\n",
       "    }\n",
       "</style>\n",
       "<table border=\"1\" class=\"dataframe\">\n",
       "  <thead>\n",
       "    <tr style=\"text-align: right;\">\n",
       "      <th></th>\n",
       "      <th>BatchId</th>\n",
       "      <th>AccountId</th>\n",
       "      <th>SubscriptionId</th>\n",
       "      <th>CustomerId</th>\n",
       "      <th>Amount</th>\n",
       "      <th>Value</th>\n",
       "      <th>PricingStrategy</th>\n",
       "      <th>FraudResult</th>\n",
       "      <th>transaction_hour</th>\n",
       "      <th>transaction_day</th>\n",
       "      <th>...</th>\n",
       "      <th>ProductCategory_airtime</th>\n",
       "      <th>ProductCategory_data_bundles</th>\n",
       "      <th>ProductCategory_financial_services</th>\n",
       "      <th>ProductCategory_movies</th>\n",
       "      <th>ProductCategory_other</th>\n",
       "      <th>ProductCategory_ticket</th>\n",
       "      <th>ProductCategory_transport</th>\n",
       "      <th>ProductCategory_tv</th>\n",
       "      <th>ProductCategory_utility_bill</th>\n",
       "      <th>ProductId_label</th>\n",
       "    </tr>\n",
       "  </thead>\n",
       "  <tbody>\n",
       "    <tr>\n",
       "      <th>0</th>\n",
       "      <td>36123</td>\n",
       "      <td>3957</td>\n",
       "      <td>887</td>\n",
       "      <td>4406</td>\n",
       "      <td>-0.046371</td>\n",
       "      <td>-0.071953</td>\n",
       "      <td>2</td>\n",
       "      <td>0</td>\n",
       "      <td>2</td>\n",
       "      <td>15</td>\n",
       "      <td>...</td>\n",
       "      <td>1.0</td>\n",
       "      <td>0.0</td>\n",
       "      <td>0.0</td>\n",
       "      <td>0.0</td>\n",
       "      <td>0.0</td>\n",
       "      <td>0.0</td>\n",
       "      <td>0.0</td>\n",
       "      <td>0.0</td>\n",
       "      <td>0.0</td>\n",
       "      <td>1</td>\n",
       "    </tr>\n",
       "    <tr>\n",
       "      <th>1</th>\n",
       "      <td>15642</td>\n",
       "      <td>4841</td>\n",
       "      <td>3829</td>\n",
       "      <td>4406</td>\n",
       "      <td>-0.054643</td>\n",
       "      <td>-0.079915</td>\n",
       "      <td>2</td>\n",
       "      <td>0</td>\n",
       "      <td>2</td>\n",
       "      <td>15</td>\n",
       "      <td>...</td>\n",
       "      <td>0.0</td>\n",
       "      <td>0.0</td>\n",
       "      <td>1.0</td>\n",
       "      <td>0.0</td>\n",
       "      <td>0.0</td>\n",
       "      <td>0.0</td>\n",
       "      <td>0.0</td>\n",
       "      <td>0.0</td>\n",
       "      <td>0.0</td>\n",
       "      <td>19</td>\n",
       "    </tr>\n",
       "    <tr>\n",
       "      <th>2</th>\n",
       "      <td>53941</td>\n",
       "      <td>4229</td>\n",
       "      <td>222</td>\n",
       "      <td>4683</td>\n",
       "      <td>-0.050426</td>\n",
       "      <td>-0.076015</td>\n",
       "      <td>2</td>\n",
       "      <td>0</td>\n",
       "      <td>2</td>\n",
       "      <td>15</td>\n",
       "      <td>...</td>\n",
       "      <td>1.0</td>\n",
       "      <td>0.0</td>\n",
       "      <td>0.0</td>\n",
       "      <td>0.0</td>\n",
       "      <td>0.0</td>\n",
       "      <td>0.0</td>\n",
       "      <td>0.0</td>\n",
       "      <td>0.0</td>\n",
       "      <td>0.0</td>\n",
       "      <td>0</td>\n",
       "    </tr>\n",
       "    <tr>\n",
       "      <th>3</th>\n",
       "      <td>102363</td>\n",
       "      <td>648</td>\n",
       "      <td>2185</td>\n",
       "      <td>988</td>\n",
       "      <td>0.107717</td>\n",
       "      <td>0.082399</td>\n",
       "      <td>2</td>\n",
       "      <td>0</td>\n",
       "      <td>3</td>\n",
       "      <td>15</td>\n",
       "      <td>...</td>\n",
       "      <td>0.0</td>\n",
       "      <td>0.0</td>\n",
       "      <td>0.0</td>\n",
       "      <td>0.0</td>\n",
       "      <td>0.0</td>\n",
       "      <td>0.0</td>\n",
       "      <td>0.0</td>\n",
       "      <td>0.0</td>\n",
       "      <td>1.0</td>\n",
       "      <td>11</td>\n",
       "    </tr>\n",
       "    <tr>\n",
       "      <th>4</th>\n",
       "      <td>38780</td>\n",
       "      <td>4841</td>\n",
       "      <td>3829</td>\n",
       "      <td>988</td>\n",
       "      <td>-0.059704</td>\n",
       "      <td>-0.074846</td>\n",
       "      <td>2</td>\n",
       "      <td>0</td>\n",
       "      <td>3</td>\n",
       "      <td>15</td>\n",
       "      <td>...</td>\n",
       "      <td>0.0</td>\n",
       "      <td>0.0</td>\n",
       "      <td>1.0</td>\n",
       "      <td>0.0</td>\n",
       "      <td>0.0</td>\n",
       "      <td>0.0</td>\n",
       "      <td>0.0</td>\n",
       "      <td>0.0</td>\n",
       "      <td>0.0</td>\n",
       "      <td>19</td>\n",
       "    </tr>\n",
       "  </tbody>\n",
       "</table>\n",
       "<p>5 rows × 36 columns</p>\n",
       "</div>"
      ],
      "text/plain": [
       "   BatchId  AccountId  SubscriptionId  CustomerId    Amount     Value  \\\n",
       "0    36123       3957             887        4406 -0.046371 -0.071953   \n",
       "1    15642       4841            3829        4406 -0.054643 -0.079915   \n",
       "2    53941       4229             222        4683 -0.050426 -0.076015   \n",
       "3   102363        648            2185         988  0.107717  0.082399   \n",
       "4    38780       4841            3829         988 -0.059704 -0.074846   \n",
       "\n",
       "   PricingStrategy  FraudResult  transaction_hour  transaction_day  ...  \\\n",
       "0                2            0                 2               15  ...   \n",
       "1                2            0                 2               15  ...   \n",
       "2                2            0                 2               15  ...   \n",
       "3                2            0                 3               15  ...   \n",
       "4                2            0                 3               15  ...   \n",
       "\n",
       "   ProductCategory_airtime  ProductCategory_data_bundles  \\\n",
       "0                      1.0                           0.0   \n",
       "1                      0.0                           0.0   \n",
       "2                      1.0                           0.0   \n",
       "3                      0.0                           0.0   \n",
       "4                      0.0                           0.0   \n",
       "\n",
       "   ProductCategory_financial_services  ProductCategory_movies  \\\n",
       "0                                 0.0                     0.0   \n",
       "1                                 1.0                     0.0   \n",
       "2                                 0.0                     0.0   \n",
       "3                                 0.0                     0.0   \n",
       "4                                 1.0                     0.0   \n",
       "\n",
       "   ProductCategory_other  ProductCategory_ticket  ProductCategory_transport  \\\n",
       "0                    0.0                     0.0                        0.0   \n",
       "1                    0.0                     0.0                        0.0   \n",
       "2                    0.0                     0.0                        0.0   \n",
       "3                    0.0                     0.0                        0.0   \n",
       "4                    0.0                     0.0                        0.0   \n",
       "\n",
       "   ProductCategory_tv  ProductCategory_utility_bill  ProductId_label  \n",
       "0                 0.0                           0.0                1  \n",
       "1                 0.0                           0.0               19  \n",
       "2                 0.0                           0.0                0  \n",
       "3                 0.0                           1.0               11  \n",
       "4                 0.0                           0.0               19  \n",
       "\n",
       "[5 rows x 36 columns]"
      ]
     },
     "execution_count": 9,
     "metadata": {},
     "output_type": "execute_result"
    }
   ],
   "source": [
    "# Process features using the pipeline\n",
    "features = process_features(df)\n",
    "features.head()"
   ]
  },
  {
   "cell_type": "code",
   "execution_count": 10,
   "id": "ab540183",
   "metadata": {},
   "outputs": [
    {
     "name": "stdout",
     "output_type": "stream",
     "text": [
      "<class 'pandas.core.frame.DataFrame'>\n",
      "RangeIndex: 95662 entries, 0 to 95661\n",
      "Data columns (total 36 columns):\n",
      " #   Column                              Non-Null Count  Dtype  \n",
      "---  ------                              --------------  -----  \n",
      " 0   BatchId                             95662 non-null  int64  \n",
      " 1   AccountId                           95662 non-null  int64  \n",
      " 2   SubscriptionId                      95662 non-null  int64  \n",
      " 3   CustomerId                          95662 non-null  int64  \n",
      " 4   Amount                              95662 non-null  float64\n",
      " 5   Value                               95662 non-null  float64\n",
      " 6   PricingStrategy                     95662 non-null  int64  \n",
      " 7   FraudResult                         95662 non-null  int64  \n",
      " 8   transaction_hour                    95662 non-null  int32  \n",
      " 9   transaction_day                     95662 non-null  int32  \n",
      " 10  transaction_month                   95662 non-null  int32  \n",
      " 11  transaction_year                    95662 non-null  int32  \n",
      " 12  total_transaction_amount            95662 non-null  float64\n",
      " 13  average_transaction_amount          95662 non-null  float64\n",
      " 14  transaction_count                   95662 non-null  float64\n",
      " 15  std_transaction_amount              95662 non-null  float64\n",
      " 16  ProviderId_1                        95662 non-null  float64\n",
      " 17  ProviderId_2                        95662 non-null  float64\n",
      " 18  ProviderId_3                        95662 non-null  float64\n",
      " 19  ProviderId_4                        95662 non-null  float64\n",
      " 20  ProviderId_5                        95662 non-null  float64\n",
      " 21  ProviderId_6                        95662 non-null  float64\n",
      " 22  ChannelId_1                         95662 non-null  float64\n",
      " 23  ChannelId_2                         95662 non-null  float64\n",
      " 24  ChannelId_3                         95662 non-null  float64\n",
      " 25  ChannelId_5                         95662 non-null  float64\n",
      " 26  ProductCategory_airtime             95662 non-null  float64\n",
      " 27  ProductCategory_data_bundles        95662 non-null  float64\n",
      " 28  ProductCategory_financial_services  95662 non-null  float64\n",
      " 29  ProductCategory_movies              95662 non-null  float64\n",
      " 30  ProductCategory_other               95662 non-null  float64\n",
      " 31  ProductCategory_ticket              95662 non-null  float64\n",
      " 32  ProductCategory_transport           95662 non-null  float64\n",
      " 33  ProductCategory_tv                  95662 non-null  float64\n",
      " 34  ProductCategory_utility_bill        95662 non-null  float64\n",
      " 35  ProductId_label                     95662 non-null  int64  \n",
      "dtypes: float64(25), int32(4), int64(7)\n",
      "memory usage: 24.8 MB\n"
     ]
    }
   ],
   "source": [
    "features.info()"
   ]
  },
  {
   "cell_type": "code",
   "execution_count": 12,
   "id": "9334da74",
   "metadata": {},
   "outputs": [
    {
     "name": "stdout",
     "output_type": "stream",
     "text": [
      "\n",
      "Missing values in the dataset:\n",
      "0\n"
     ]
    }
   ],
   "source": [
    "# Check for missing values in each column\n",
    "missing_values = features.isnull().sum()\n",
    "\n",
    "total_missing_values = missing_values.isnull().sum()\n",
    "\n",
    "print(f\"\\nMissing values in the dataset:\\n{total_missing_values}\")"
   ]
  },
  {
   "cell_type": "code",
   "execution_count": 13,
   "id": "b09eeb30",
   "metadata": {},
   "outputs": [
    {
     "name": "stdout",
     "output_type": "stream",
     "text": [
      "Features saved to ../data/processed/features.csv\n"
     ]
    }
   ],
   "source": [
    "# Save the processed features to a CSV file\n",
    "features.to_csv('../data/processed/features.csv', index=False)\n",
    "print('Features saved to ../data/processed/features.csv')"
   ]
  }
 ],
 "metadata": {
  "kernelspec": {
   "display_name": ".venv",
   "language": "python",
   "name": "python3"
  },
  "language_info": {
   "codemirror_mode": {
    "name": "ipython",
    "version": 3
   },
   "file_extension": ".py",
   "mimetype": "text/x-python",
   "name": "python",
   "nbconvert_exporter": "python",
   "pygments_lexer": "ipython3",
   "version": "3.12.3"
  }
 },
 "nbformat": 4,
 "nbformat_minor": 5
}
