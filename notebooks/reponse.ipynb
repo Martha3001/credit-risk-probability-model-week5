{
 "cells": [
  {
   "cell_type": "markdown",
   "id": "7ff2e86a",
   "metadata": {},
   "source": [
    "# Response to FastAPI"
   ]
  },
  {
   "cell_type": "code",
   "execution_count": 11,
   "id": "849d7916",
   "metadata": {},
   "outputs": [
    {
     "name": "stdout",
     "output_type": "stream",
     "text": [
      "Status code: 200\n",
      "Response JSON: {'risk_probability': 1.0}\n"
     ]
    }
   ],
   "source": [
    "import requests\n",
    "\n",
    "# Your FastAPI server URL (update if different)\n",
    "url = \"http://127.0.0.1:8000/predict\"\n",
    "\n",
    "# The request payload matching CustomerFeatures\n",
    "payload = {\n",
    "    \"BatchId\": 10381,\n",
    "    \"AccountId\": 3832,\n",
    "    \"SubscriptionId\": 4161,\n",
    "    \"CustomerId\": 4275,\n",
    "    \"Amount\": 5.622445746229227,\n",
    "    \"Value\": 5.606588427452858,\n",
    "    \"PricingStrategy\": 0,\n",
    "    \"FraudResult\": 1,\n",
    "    \"transaction_hour\": 8,\n",
    "    \"transaction_day\": 15,\n",
    "    \"transaction_month\": 11,\n",
    "    \"transaction_year\": 2018,\n",
    "    \"total_transaction_amount\": 0.2840987971164501,\n",
    "    \"average_transaction_amount\": 4.248171889479514,\n",
    "    \"transaction_count\": -0.4393026967242085,\n",
    "    \"std_transaction_amount\": 3.45369168935316,\n",
    "    \"ProviderId_1\": 0.0,\n",
    "    \"ProviderId_2\": 0.0,\n",
    "    \"ProviderId_3\": 1.0,\n",
    "    \"ProviderId_4\": 0.0,\n",
    "    \"ProviderId_5\": 0.0,\n",
    "    \"ProviderId_6\": 0.0,\n",
    "    \"ChannelId_1\": 0.0,\n",
    "    \"ChannelId_2\": 0.0,\n",
    "    \"ChannelId_3\": 1.0,\n",
    "    \"ChannelId_5\": 0.0,\n",
    "    \"ProductCategory_airtime\": 0.0,\n",
    "    \"ProductCategory_data_bundles\": 0.0,\n",
    "    \"ProductCategory_financial_services\": 1.0,\n",
    "    \"ProductCategory_movies\": 0.0,\n",
    "    \"ProductCategory_other\": 0.0,\n",
    "    \"ProductCategory_ticket\": 0.0,\n",
    "    \"ProductCategory_transport\": 0.0,\n",
    "    \"ProductCategory_tv\": 0.0,\n",
    "    \"ProductCategory_utility_bill\": 0.0,\n",
    "    \"ProductId_label\": 6\n",
    "}\n",
    "\n",
    "# Send the POST request\n",
    "response = requests.post(url, json=payload)\n",
    "\n",
    "# Print response\n",
    "print(\"Status code:\", response.status_code)\n",
    "print(\"Response JSON:\", response.json())"
   ]
  }
 ],
 "metadata": {
  "kernelspec": {
   "display_name": ".venv",
   "language": "python",
   "name": "python3"
  },
  "language_info": {
   "codemirror_mode": {
    "name": "ipython",
    "version": 3
   },
   "file_extension": ".py",
   "mimetype": "text/x-python",
   "name": "python",
   "nbconvert_exporter": "python",
   "pygments_lexer": "ipython3",
   "version": "3.12.3"
  }
 },
 "nbformat": 4,
 "nbformat_minor": 5
}
